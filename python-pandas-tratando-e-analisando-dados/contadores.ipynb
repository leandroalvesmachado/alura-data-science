{
 "cells": [
  {
   "cell_type": "code",
   "execution_count": 1,
   "metadata": {},
   "outputs": [],
   "source": [
    "import pandas as pd"
   ]
  },
  {
   "cell_type": "code",
   "execution_count": 2,
   "metadata": {},
   "outputs": [
    {
     "data": {
      "text/plain": [
       "0     a\n",
       "1     s\n",
       "2     d\n",
       "3     e\n",
       "4     a\n",
       "5     s\n",
       "6     d\n",
       "7     e\n",
       "8     a\n",
       "9     s\n",
       "10    d\n",
       "11    e\n",
       "dtype: object"
      ]
     },
     "execution_count": 2,
     "metadata": {},
     "output_type": "execute_result"
    }
   ],
   "source": [
    "s = pd.Series(list('asdeasdeasde'))\n",
    "s"
   ]
  },
  {
   "cell_type": "code",
   "execution_count": 3,
   "metadata": {},
   "outputs": [
    {
     "data": {
      "text/plain": [
       "array(['a', 's', 'd', 'e'], dtype=object)"
      ]
     },
     "execution_count": 3,
     "metadata": {},
     "output_type": "execute_result"
    }
   ],
   "source": [
    "# Para coletarmos quais são os caracteres disponíveis na Series eliminando as repetições\n",
    "s.unique()"
   ]
  },
  {
   "cell_type": "code",
   "execution_count": 4,
   "metadata": {},
   "outputs": [
    {
     "data": {
      "text/plain": [
       "a    3\n",
       "s    3\n",
       "d    3\n",
       "e    3\n",
       "dtype: int64"
      ]
     },
     "execution_count": 4,
     "metadata": {},
     "output_type": "execute_result"
    }
   ],
   "source": [
    "# saber inclusive quantas vezes cada tipo foi utilizado, desconsiderando as repetições\n",
    "# contra a frequência de repetição dos valores\n",
    "s.value_counts()"
   ]
  },
  {
   "cell_type": "code",
   "execution_count": 5,
   "metadata": {},
   "outputs": [],
   "source": [
    "dados = pd.read_csv('dados/aluguel.csv', sep=';')"
   ]
  },
  {
   "cell_type": "code",
   "execution_count": 6,
   "metadata": {},
   "outputs": [
    {
     "data": {
      "text/plain": [
       "array(['Quitinete', 'Casa', 'Conjunto Comercial/Sala', 'Apartamento',\n",
       "       'Casa de Condomínio', 'Prédio Inteiro', 'Flat', 'Loja/Salão',\n",
       "       'Galpão/Depósito/Armazém', 'Casa Comercial', 'Casa de Vila',\n",
       "       'Terreno Padrão', 'Box/Garagem', 'Loft',\n",
       "       'Loja Shopping/ Ct Comercial', 'Chácara', 'Loteamento/Condomínio',\n",
       "       'Sítio', 'Pousada/Chalé', 'Studio', 'Hotel', 'Indústria'],\n",
       "      dtype=object)"
      ]
     },
     "execution_count": 6,
     "metadata": {},
     "output_type": "execute_result"
    }
   ],
   "source": [
    "# solicitou os tipos de imóveis cadastrados no banco de dados\n",
    "# tirou as repetições\n",
    "dados.Tipo.unique()"
   ]
  },
  {
   "cell_type": "code",
   "execution_count": 7,
   "metadata": {},
   "outputs": [
    {
     "data": {
      "text/plain": [
       "Apartamento                    19532\n",
       "Conjunto Comercial/Sala         6815\n",
       "Loja/Salão                      1426\n",
       "Casa de Condomínio               996\n",
       "Casa                             967\n",
       "Quitinete                        836\n",
       "Galpão/Depósito/Armazém          623\n",
       "Flat                             476\n",
       "Prédio Inteiro                   301\n",
       "Casa Comercial                   265\n",
       "Casa de Vila                     249\n",
       "Loja Shopping/ Ct Comercial      247\n",
       "Box/Garagem                       82\n",
       "Terreno Padrão                    70\n",
       "Loft                              51\n",
       "Sítio                             10\n",
       "Loteamento/Condomínio              5\n",
       "Studio                             4\n",
       "Hotel                              2\n",
       "Chácara                            1\n",
       "Pousada/Chalé                      1\n",
       "Indústria                          1\n",
       "Name: Tipo, dtype: int64"
      ]
     },
     "execution_count": 7,
     "metadata": {},
     "output_type": "execute_result"
    }
   ],
   "source": [
    "# conta a frequencia dos tipos de imoveis\n",
    "dados.Tipo.value_counts()"
   ]
  },
  {
   "cell_type": "code",
   "execution_count": null,
   "metadata": {},
   "outputs": [],
   "source": []
  }
 ],
 "metadata": {
  "kernelspec": {
   "display_name": "ambiente_virtual_alura",
   "language": "python",
   "name": "python3"
  },
  "language_info": {
   "codemirror_mode": {
    "name": "ipython",
    "version": 3
   },
   "file_extension": ".py",
   "mimetype": "text/x-python",
   "name": "python",
   "nbconvert_exporter": "python",
   "pygments_lexer": "ipython3",
   "version": "3.10.9"
  },
  "orig_nbformat": 4,
  "vscode": {
   "interpreter": {
    "hash": "910af0b8582a85390adb69469348a8da66f4412e77198d72fe170af06c6ae7a4"
   }
  }
 },
 "nbformat": 4,
 "nbformat_minor": 2
}
